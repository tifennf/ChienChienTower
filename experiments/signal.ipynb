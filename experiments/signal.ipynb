{
 "cells": [
  {
   "cell_type": "code",
   "execution_count": 1,
   "id": "6a9ef556",
   "metadata": {},
   "outputs": [],
   "source": [
    "import numpy as np \n",
    "import matplotlib.pyplot as plt\n",
    "\n",
    "import wave"
   ]
  },
  {
   "cell_type": "code",
   "execution_count": null,
   "id": "0dbcdd25",
   "metadata": {},
   "outputs": [],
   "source": [
    "def sound_info(w):\n",
    "    \"\"\"\n",
    "    Print sound info from .waw file\n",
    "    \"\"\"\n",
    "    print(f\"channels : {w.getnchannels()}\")\n",
    "    print(f\"sample size : {w.getsampwidth()} bytes\")\n",
    "    print(f\"sample frequency : {w.getframerate()} Hz\")\n",
    "    print(f\"audio frames : {w.getnframes()}\")\n",
    "\n",
    "def normalize(w):\n",
    "    \"\"\"normalize w between 0 and 1\"\"\"\n",
    "    a_f = w.astype(np.float32)\n",
    "    maximum = np.max(a_f)\n",
    "    minimum = np.min(a_f)\n",
    "    return (a_f-minimum)/(maximum - minimum)\n",
    "\n",
    "def get_amplitude(w):\n",
    "    \"\"\"get amplitude vector of w sample\"\"\"\n",
    "    return np.frombuffer(w, np.int16)\n",
    "\n",
    "def plot_audio(t,w,N):\n",
    "    plt.plot(t, w[:N])\n",
    "\n",
    "def audio_segmentation(w, segment_size, seuil, overlap):\n",
    "    \"\"\"\n",
    "    segment waw file\n",
    "    \"\"\"\n",
    "\n",
    "    # every segments of w\n",
    "    res = []\n",
    "\n",
    "    nb_segment = w.getnframes() // segment_size\n",
    "\n",
    "    # all_powerl = []\n",
    "    # all_powerr = []\n",
    "    pos = 0\n",
    "    shift = int(overlap*segment_size)\n",
    "\n",
    "    for _ in range(nb_segment):\n",
    "\n",
    "        # len(frame_vec) is segment_size*2 because 2 channels (stereo)\n",
    "        frame_vector = get_amplitude(w.readframes(segment_size))\n",
    "        frame_mat = frame_vector.reshape((len(frame_vector)//2, 2))\n",
    "\n",
    "        # overlaping\n",
    "        pos+=segment_size - shift\n",
    "        w.setpos(pos)\n",
    "        \n",
    "        left = normalize(frame_mat[:,0])\n",
    "        right = normalize(frame_mat[:,1])\n",
    "\n",
    "        power_left = calcul_signal_power(left)\n",
    "        power_right = calcul_signal_power(right)\n",
    "\n",
    "        # all_powerl.append(power_left)\n",
    "        # all_powerr.append(power_right)\n",
    "\n",
    "        # we keep only barking\n",
    "        if power_left > seuil and power_right > seuil:\n",
    "            seg = np.array([left,right]).T\n",
    "            res.append(seg)\n",
    "\n",
    "    # print(np.min(all_powerl), np.max(all_powerl))\n",
    "    # print(np.min(all_powerr), np.max(all_powerr))\n",
    "\n",
    "    return res\n",
    "\n",
    "def calcul_signal_power(w):\n",
    "    \"\"\"mean of squarred amplitudes\"\"\"\n",
    "    return np.mean(w**2)\n",
    "\n",
    "def bark_quality(w, segments, segment_size):\n",
    "    \"\"\"\n",
    "    Calcul bark quality of w\n",
    "    i.e the number of segments with enough power divided by number of segments\n",
    "    \"\"\"\n",
    "    nb_segments = w.getnframes() // segment_size\n",
    "\n",
    "    return len(segments)/nb_segments\n",
    "\n",
    "def rebuild_signal(segments, segment_size, framerate):\n",
    "    \"\"\"\n",
    "    Rebuild signal from its segments as an amplitude matrix (stereo)\n",
    "    \"\"\"\n",
    "\n",
    "    segs = np.array(segments) # 3D tensor\n",
    "\n",
    "    nb_frames = segment_size*len(segments)\n",
    "\n",
    "    res = segs.reshape(nb_frames, 2) # 2D tensor (matrix)\n",
    "\n",
    "    duration = nb_frames/framerate\n",
    "\n",
    "    return res, duration\n",
    "\n",
    "def embedd_segment(seg, segment_size, framerate):\n",
    "    period = 1/framerate\n",
    "    seg_centered = seg - 0.5 # [0,1] -> [-0.5, 0.5] for zcr\n",
    "    eps = 1e-8\n",
    "\n",
    "    fft = np.fft.fft(seg_centered, segment_size)\n",
    "    freqs = np.fft.fftfreq(segment_size, period)\n",
    "\n",
    "    # fft is symmetric, we take positive part\n",
    "    p_fft = fft[:segment_size//2]\n",
    "    p_freqs = freqs[:segment_size//2]\n",
    "    magnitude = np.abs(p_fft)\n",
    "\n",
    "\n",
    "    # time-domain features\n",
    "    rms = np.sqrt(calcul_signal_power(seg))\n",
    "    zcr = np.sum(np.diff(np.sign(seg_centered)) != 0)/segment_size\n",
    "    entropy = -np.sum(seg_centered**2 * np.log(seg_centered**2 + eps)) # avoid log(0)\n",
    "\n",
    "    # frequency-domain features\n",
    "    centroid = np.sum(p_freqs*magnitude)/(np.sum(magnitude) + eps)\n",
    "    flatness = np.exp(np.mean(np.log(magnitude + eps))) / (np.mean(magnitude) + eps)\n",
    "\n",
    "    best_idx = np.argmax(magnitude)\n",
    "    peak_freq = p_freqs[best_idx]\n",
    "    \n",
    "\n",
    "    return np.array([rms, zcr, entropy, centroid, flatness, peak_freq])\n",
    "\n",
    "\n",
    "def cosine_dist(u, v):\n",
    "    return (u@v)/(np.linalg.norm(u)*np.linalg.norm(v))\n",
    "\n",
    "def euclidean_dist(u,v):\n",
    "    A = u-v\n",
    "    return np.sqrt(A@A)\n",
    "\n",
    "\n",
    "\n"
   ]
  },
  {
   "cell_type": "code",
   "execution_count": null,
   "id": "a2e7102d",
   "metadata": {},
   "outputs": [
    {
     "name": "stdout",
     "output_type": "stream",
     "text": [
      "nina.wav bark sound info :\n",
      "channels : 2\n",
      "sample size : 2 bytes\n",
      "sample frequency : 48000 Hz\n",
      "audio frames : 16384\n",
      "0.75\n",
      "\n",
      "rebecca.wav bark sound info :\n",
      "channels : 2\n",
      "sample size : 2 bytes\n",
      "sample frequency : 48000 Hz\n",
      "audio frames : 22528\n",
      "0.6818181818181818\n",
      "\n",
      "rebecca2.wav bark sound info :\n",
      "channels : 2\n",
      "sample size : 2 bytes\n",
      "sample frequency : 48000 Hz\n",
      "audio frames : 133120\n",
      "0.7230769230769231\n",
      "\n"
     ]
    },
    {
     "data": {
      "text/plain": [
       "2"
      ]
     },
     "execution_count": 16,
     "metadata": {},
     "output_type": "execute_result"
    }
   ],
   "source": [
    "audio = {\"nina\": [], \"rebecca\": []}\n",
    "\n",
    "buffer_size = 1024\n",
    "bark_seuil = 0.25\n",
    "\n",
    "for filename in [\"nina\", \"rebecca\", \"rebecca2\"]:      \n",
    "\n",
    "    with wave.open(f\"{filename}.wav\", \"rb\") as w:\n",
    "        print(f\"{filename}.wav bark sound info :\")\n",
    "        sound_info(w)\n",
    "\n",
    "        segments = audio_segmentation(w, buffer_size, bark_seuil, 0.5)\n",
    "        print(bark_quality(w, segments, buffer_size))\n",
    "\n",
    "        print(\"\")\n",
    "\n",
    "        # keeping only left audio channel because i don't need spatial informations\n",
    "        f = lambda seg : seg[:,0]\n",
    "        left_segs = list(map(f, segments))\n",
    "\n",
    "\n",
    "        g = lambda seg : embedd_segment(seg, buffer_size, w.getframerate())\n",
    "        embedded_segs = list(map(g, left_segs))\n",
    "\n",
    "        if filename.startswith(\"nina\"):\n",
    "\n",
    "            audio[\"nina\"] = embedded_segs\n",
    "        else:\n",
    "            audio[\"rebecca\"] = embedded_segs\n",
    "    \n",
    "\n"
   ]
  },
  {
   "cell_type": "code",
   "execution_count": 40,
   "id": "11f135a6",
   "metadata": {},
   "outputs": [
    {
     "data": {
      "text/plain": [
       "array([3.21251729e-02, 9.45237338e-03, 1.78834808e+01, 4.23342763e+02,\n",
       "       6.44755331e-02, 3.17825713e+02])"
      ]
     },
     "execution_count": 40,
     "metadata": {},
     "output_type": "execute_result"
    }
   ],
   "source": [
    "ex = np.array(audio[\"nina\"])\n",
    "ex2 = np.array(audio[\"rebecca\"])\n",
    "\n",
    "np.std(ex, axis=0)\n",
    "\n"
   ]
  },
  {
   "cell_type": "code",
   "execution_count": 41,
   "id": "7276ac2f",
   "metadata": {},
   "outputs": [
    {
     "name": "stdout",
     "output_type": "stream",
     "text": [
      "646.4567562166305\n",
      "0.98738520713805\n"
     ]
    }
   ],
   "source": [
    "# similar angle but far away -> not ok\n",
    "de = []\n",
    "dc = []\n",
    "for u in ex:\n",
    "    for v in ex:\n",
    "        de.append(euclidean_dist(u,v))\n",
    "        dc.append(cosine_dist(u,v))\n",
    "\n",
    "\n",
    "print(np.mean(de))\n",
    "print(np.mean(dc))\n",
    "\n",
    "\n"
   ]
  },
  {
   "cell_type": "code",
   "execution_count": null,
   "id": "34e98d67",
   "metadata": {},
   "outputs": [
    {
     "name": "stdout",
     "output_type": "stream",
     "text": [
      "1448.524621035019\n",
      "0.9716874996150804\n"
     ]
    }
   ],
   "source": [
    "# similar angle but far away -> not ok\n",
    "de = []\n",
    "dc = []\n",
    "for u in ex:\n",
    "    for v in ex2:\n",
    "        de.append(euclidean_dist(u,v))\n",
    "        dc.append(cosine_dist(u,v))\n",
    "\n",
    "\n",
    "print(np.mean(de))\n",
    "print(np.mean(dc))\n"
   ]
  },
  {
   "cell_type": "markdown",
   "id": "84707606",
   "metadata": {},
   "source": [
    "## Conclusion"
   ]
  },
  {
   "cell_type": "markdown",
   "id": "f2f82489",
   "metadata": {},
   "source": [
    "Pour faire un KNN, cela ne sera pas possible par ce moyen.  \n",
    "\n",
    "Un segment du chien A est \"proche\" d'un segment du chien B, et un segment du chien A est \"loin\" d'un segment du chien A.  \n",
    "Par conséquent, ma segmentation n'est peut-être pas bonne, ou bien je n'extrais pas les bonnes features, ou bien un modèle bien plus complexe est nécessaire.  "
   ]
  },
  {
   "cell_type": "markdown",
   "id": "7abc4928",
   "metadata": {},
   "source": [
    "En revanche, j'ai trouvé un modèle qui serait peut-être utilisable pour mon problème :\n",
    "https://arxiv.org/html/2404.18739v1#S4"
   ]
  },
  {
   "cell_type": "code",
   "execution_count": null,
   "id": "69a18a87",
   "metadata": {},
   "outputs": [],
   "source": []
  }
 ],
 "metadata": {
  "kernelspec": {
   "display_name": "Python 3",
   "language": "python",
   "name": "python3"
  },
  "language_info": {
   "codemirror_mode": {
    "name": "ipython",
    "version": 3
   },
   "file_extension": ".py",
   "mimetype": "text/x-python",
   "name": "python",
   "nbconvert_exporter": "python",
   "pygments_lexer": "ipython3",
   "version": "3.13.5"
  }
 },
 "nbformat": 4,
 "nbformat_minor": 5
}
